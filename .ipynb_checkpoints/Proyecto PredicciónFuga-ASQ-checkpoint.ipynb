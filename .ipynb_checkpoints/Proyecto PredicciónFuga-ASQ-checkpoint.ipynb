{
 "cells": [
  {
   "cell_type": "markdown",
   "id": "c0ebe6cf",
   "metadata": {},
   "source": [
    "# Predicción de fuga de miembros ASQ UNI"
   ]
  },
  {
   "cell_type": "markdown",
   "id": "861394e8",
   "metadata": {},
   "source": [
    "\n",
    "1. **¿Qué problema atacaremos?**\n",
    "\n",
    "El bajo nivel de acción y predicción ante la fuga de colaboradores en ASQ UNI. \n",
    "\n",
    "``Importancia del problema``: Alto, ya que la rama es el reflejo del talento de cada miembro\n",
    "\n",
    "\n",
    "2. **¿Quién tiene el problema?**\n",
    "\n",
    "    * Dirección de ``Talento Humano``: Son los encargados de generar planes de acción para que el desarrollo de cada miembro de ASQ sea integro.\n",
    "\n",
    "\n",
    "3. **¿De qué trata el ``aporte``?**\n",
    "\n",
    "Deseamos realizar un sistema de alertas que nos permita conocer el riesgo de tener un miembro con determinada probabilidad de rotación, y también tomar una acción inmediata sobre un problema determinado.\n",
    "\n",
    "   * Pronosticar ``Probabilidad de abandono`` de cada miembro ASQ UNI\n",
    "   * Genera un ``Dashboard`` que resuma el rendimiento y otras variables de cada área , incluyendo el nivel de rotación.\n",
    "   * Generar planes de capacitación / motivación para que esté sincronizado con el área.\n",
    "\n",
    "5. **¿Qué haremos con ese dashboard?**\n",
    "    \n",
    "Puede existir 3 casos, como salida del modelo:\n",
    "$$\n",
    "P(Y|X) = \n",
    "\\begin{cases}\n",
    "       0 < P(Y|X) < 0.4 & \\text{Verde}\\\\\n",
    "       0.4 < P(Y|X) < 0.7 & \\text{Amarillo}\\\\\n",
    "       0.7 < P(Y|X) \\leq 1 & \\text{Rojo}\n",
    "\\end{cases}\n",
    "$$\n",
    "\n",
    "|Variables X|Variable Y|Probabilidad|Etiqueda|\n",
    "|-----|-----|-----|-----|\n",
    "|...|0|0.35|Verde|\n",
    "|...|1|0.51|Amarillo|\n",
    "|...|1|0.85|Verde|\n",
    "\n",
    "   *      \n",
    "       \n",
    "6. **Supuestos**\n",
    " \n",
    "     * asd "
   ]
  },
  {
   "cell_type": "markdown",
   "id": "62c78b84",
   "metadata": {},
   "source": [
    "## Preprocesamiento"
   ]
  },
  {
   "cell_type": "markdown",
   "id": "6fb6b460",
   "metadata": {},
   "source": [
    "### Importar librerías necesarias"
   ]
  },
  {
   "cell_type": "code",
   "execution_count": 17,
   "id": "9aa670ae",
   "metadata": {},
   "outputs": [],
   "source": [
    "## Para manipular data\n",
    "import pandas as pd # manejo de dataframes\n",
    "import numpy as np # manejos de arrays\n",
    "\n",
    "## Visualización de la data\n",
    "import matplotlib.pyplot as plt\n",
    "import seaborn as sns\n",
    "\n",
    "## Tratamiento de data\n",
    "from sklearn.preprocessing import OneHotEncoder #dummies\n",
    "from sklearn.preprocessing import MinMaxScaler #escalamiento\n",
    "from sklearn.model_selection import train_test_split #dividir data train / test / val\n",
    "\n",
    "\n",
    "## Entrenamiento\n",
    "from sklearn.linear_model import LogisticRegression # Regresión logística\n",
    "from sklearn.ensemble import RandomForestClassifier #bosques aleatorios\n",
    "#### Redes neuronales\n",
    "import tensorflow as tf \n",
    "\n",
    "\n",
    "## Testeo\n",
    "from sklearn.metrics import accuracy_score #precición del modelo\n",
    "from sklearn.metrics import confusion_matrix, classification_report # Matriz de confusión"
   ]
  },
  {
   "cell_type": "code",
   "execution_count": 7,
   "id": "df72e9c6",
   "metadata": {},
   "outputs": [
    {
     "data": {
      "text/html": [
       "<div>\n",
       "<style scoped>\n",
       "    .dataframe tbody tr th:only-of-type {\n",
       "        vertical-align: middle;\n",
       "    }\n",
       "\n",
       "    .dataframe tbody tr th {\n",
       "        vertical-align: top;\n",
       "    }\n",
       "\n",
       "    .dataframe thead th {\n",
       "        text-align: right;\n",
       "    }\n",
       "</style>\n",
       "<table border=\"1\" class=\"dataframe\">\n",
       "  <thead>\n",
       "    <tr style=\"text-align: right;\">\n",
       "      <th></th>\n",
       "      <th>Nombre_completo</th>\n",
       "      <th>Edad</th>\n",
       "      <th>Area</th>\n",
       "      <th>Carrera</th>\n",
       "      <th>Genero</th>\n",
       "      <th>Qpoints</th>\n",
       "      <th>Nivel_participacion</th>\n",
       "      <th>Satisfaccion_laboral</th>\n",
       "      <th>Nivel_trabajo</th>\n",
       "      <th>Rol</th>\n",
       "      <th>Practicas_pre</th>\n",
       "      <th>Horas_trabajo</th>\n",
       "      <th>Inicios_ASQ</th>\n",
       "      <th>Fin_ASQ</th>\n",
       "      <th>motivo</th>\n",
       "      <th>Target</th>\n",
       "      <th>Propabilidad</th>\n",
       "    </tr>\n",
       "  </thead>\n",
       "  <tbody>\n",
       "    <tr>\n",
       "      <th>0</th>\n",
       "      <td>Carlos Enrique Rondan Poma</td>\n",
       "      <td>22</td>\n",
       "      <td>IDI</td>\n",
       "      <td>Industrial</td>\n",
       "      <td>Masculino</td>\n",
       "      <td>8</td>\n",
       "      <td>Sobresaliente</td>\n",
       "      <td>4</td>\n",
       "      <td>4</td>\n",
       "      <td>lider proyecto</td>\n",
       "      <td>si</td>\n",
       "      <td>8</td>\n",
       "      <td>2022-03-01</td>\n",
       "      <td>NaT</td>\n",
       "      <td>NaN</td>\n",
       "      <td>no</td>\n",
       "      <td>NaN</td>\n",
       "    </tr>\n",
       "    <tr>\n",
       "      <th>1</th>\n",
       "      <td>Peter parker xd</td>\n",
       "      <td>21</td>\n",
       "      <td>IDI</td>\n",
       "      <td>Sistemas</td>\n",
       "      <td>Masculino</td>\n",
       "      <td>20</td>\n",
       "      <td>Activo</td>\n",
       "      <td>2</td>\n",
       "      <td>2</td>\n",
       "      <td>equipo proyecto</td>\n",
       "      <td>no</td>\n",
       "      <td>4</td>\n",
       "      <td>2021-01-01</td>\n",
       "      <td>2023-03-01</td>\n",
       "      <td>Realiza prácticas</td>\n",
       "      <td>si</td>\n",
       "      <td>NaN</td>\n",
       "    </tr>\n",
       "  </tbody>\n",
       "</table>\n",
       "</div>"
      ],
      "text/plain": [
       "              Nombre_completo  Edad Area     Carrera     Genero  Qpoints  \\\n",
       "0  Carlos Enrique Rondan Poma    22  IDI  Industrial  Masculino        8   \n",
       "1             Peter parker xd    21  IDI    Sistemas  Masculino       20   \n",
       "\n",
       "  Nivel_participacion  Satisfaccion_laboral  Nivel_trabajo              Rol  \\\n",
       "0       Sobresaliente                     4              4   lider proyecto   \n",
       "1              Activo                     2              2  equipo proyecto   \n",
       "\n",
       "  Practicas_pre  Horas_trabajo Inicios_ASQ    Fin_ASQ             motivo  \\\n",
       "0            si              8  2022-03-01        NaT                NaN   \n",
       "1            no              4  2021-01-01 2023-03-01  Realiza prácticas   \n",
       "\n",
       "  Target  Propabilidad  \n",
       "0     no           NaN  \n",
       "1     si           NaN  "
      ]
     },
     "execution_count": 7,
     "metadata": {},
     "output_type": "execute_result"
    }
   ],
   "source": [
    "df = pd.read_excel('data/prediccion_fuga.xlsx')\n",
    "df "
   ]
  },
  {
   "cell_type": "code",
   "execution_count": 12,
   "id": "b18cd0ea",
   "metadata": {},
   "outputs": [
    {
     "name": "stdout",
     "output_type": "stream",
     "text": [
      "Filas: 2\n",
      "Columnas: 17\n"
     ]
    }
   ],
   "source": [
    "print('Filas: {}\\nColumnas: {}'.format(df.shape[0], df.shape[1]))"
   ]
  },
  {
   "cell_type": "markdown",
   "id": "6717c0b1",
   "metadata": {},
   "source": [
    "### Entendimiento de la data\n",
    "\n",
    "* ``Nombres Completos`` (no es necesario)\n",
    "* ``Edad``\n",
    "* ``Área``\n",
    "* ``Carrera``\n",
    "* ``Ciclo``\n",
    "* ``Genero``\n",
    "* ``Qpoints:`` Se define por el nivel de compromiso, responsabilidad. $\\rightarrow$ Valorado por los directores \n",
    "\n",
    " Se me ocurrió redefinirlo como el nivel de salario o un equivalente de ganancia por su esfuerzo\n",
    " \n",
    " \n",
    "* ``Nivel de participación:`` Nivel identidad con el proyecto 1-4: 1 Sobresaliente, 2 Activo, 3 Moderado , 4 Ausente\n",
    "    - Asistencias\n",
    "    - \n",
    "    \n",
    "    \n",
    "* ``Satisfacción laboral área:`` Qué tan comodo se siente en ['Area'], de 1-4\n",
    "    \n",
    "    Preguntas\n",
    "    - Espectativas de entrada y [salida (cuándo medirlo?)]\n",
    "    - Comodidad (clima laboral)\n",
    "    - Monotono\n",
    "        \n",
    "* ``Numero_Organizaciones`` :'c\n",
    "* ````\n",
    "* ``Nivel de trabajo:`` De una escapa de 1 al 5, qué tan bien hace el trabajo que se le designa?\n",
    "* ``Rol``:  miembro, equipo proyecto, lider proyecto\n",
    "* ``Practicas pre:`` Realiza prácticas pre profesionales?\n",
    "* ``Horas de Trabajo:`` Preguntar la cantidad de horas promedio que le ha destinado a la semana al área y las actividades correspondientes de ASQ\n",
    "* ``Inicio_ASQ:`` Fecha de inicio en ASQ\n",
    "* ``Fin_ASQ:`` Fecha de retiro o fuga de ASQ o de rotación de un área a otra\n",
    "* ``Motivo:`` Razón por la cual se cambio o retiró\n",
    "* ``Target:`` Variable objetivo o respuesta (si: fugó, no: No fugó)\n",
    "\n",
    "----- Nuevas variables\n",
    "* **autoevaluación**: De una escala de 1 al 5, qué tan bien hace el trabajo que se le designa?\n",
    "* ``Numero_Proyecto``: Número de proyectos manejaso por el miembro\n",
    "\n",
    "\n"
   ]
  },
  {
   "cell_type": "markdown",
   "id": "0ab3e5c9",
   "metadata": {},
   "source": [
    "<div class=\"alert alert-block alert-success\">\n",
    "<b>Nota:</b> \n",
    "</div>"
   ]
  },
  {
   "cell_type": "code",
   "execution_count": null,
   "id": "e8ce14bf",
   "metadata": {},
   "outputs": [],
   "source": []
  },
  {
   "cell_type": "code",
   "execution_count": null,
   "id": "f7a7f824",
   "metadata": {},
   "outputs": [],
   "source": []
  },
  {
   "cell_type": "code",
   "execution_count": null,
   "id": "a498c800",
   "metadata": {},
   "outputs": [],
   "source": []
  },
  {
   "cell_type": "code",
   "execution_count": null,
   "id": "95c0dc07",
   "metadata": {},
   "outputs": [],
   "source": []
  },
  {
   "cell_type": "code",
   "execution_count": null,
   "id": "c7c9af4d",
   "metadata": {},
   "outputs": [],
   "source": []
  },
  {
   "cell_type": "code",
   "execution_count": null,
   "id": "7e763a39",
   "metadata": {},
   "outputs": [],
   "source": []
  },
  {
   "cell_type": "code",
   "execution_count": null,
   "id": "bd332b9b",
   "metadata": {},
   "outputs": [],
   "source": []
  },
  {
   "cell_type": "code",
   "execution_count": null,
   "id": "70dfb6a3",
   "metadata": {},
   "outputs": [],
   "source": []
  },
  {
   "cell_type": "code",
   "execution_count": null,
   "id": "91b970b7",
   "metadata": {},
   "outputs": [],
   "source": []
  },
  {
   "cell_type": "code",
   "execution_count": null,
   "id": "acbf53dd",
   "metadata": {},
   "outputs": [],
   "source": []
  },
  {
   "cell_type": "code",
   "execution_count": null,
   "id": "637c9127",
   "metadata": {},
   "outputs": [],
   "source": []
  },
  {
   "cell_type": "code",
   "execution_count": null,
   "id": "0cba31c1",
   "metadata": {},
   "outputs": [],
   "source": []
  },
  {
   "cell_type": "code",
   "execution_count": null,
   "id": "20fabcc4",
   "metadata": {},
   "outputs": [],
   "source": []
  },
  {
   "cell_type": "code",
   "execution_count": null,
   "id": "7d4cc177",
   "metadata": {},
   "outputs": [],
   "source": []
  },
  {
   "cell_type": "code",
   "execution_count": null,
   "id": "15b74f0d",
   "metadata": {},
   "outputs": [],
   "source": []
  },
  {
   "cell_type": "code",
   "execution_count": null,
   "id": "b20075ae",
   "metadata": {},
   "outputs": [],
   "source": []
  },
  {
   "cell_type": "code",
   "execution_count": null,
   "id": "ee760353",
   "metadata": {},
   "outputs": [],
   "source": []
  },
  {
   "cell_type": "markdown",
   "id": "2891bcc4",
   "metadata": {},
   "source": [
    "<div class=\"alert alert-block alert-warning\">\n",
    "<b>Example:</b> Use yellow boxes for examples that are not inside code cells, or use for mathematical formulas if needed. Typically also used to display warning messages.\n",
    "</div>\n",
    "\n",
    "\n",
    "\n",
    "\n",
    "<div class=\"alert alert-block alert-info\">\n",
    "<b>Tip:</b> Use blue boxes (alert-info) for tips and notes.</div>\n",
    "    \n",
    "    \n",
    "    \n",
    "\n",
    "<div class=\"alert alert-block alert-success\">\n",
    "<b>Success:</b> This alert box indicates a successful or positive action.\n",
    "</div>\n",
    "\n",
    "\n",
    "\n",
    "<div class=\"alert alert-block alert-danger\">\n",
    "<b>Danger:</b> This alert box indicates a dangerous or potentially negative action.\n",
    "</div>"
   ]
  },
  {
   "cell_type": "code",
   "execution_count": null,
   "id": "da9cf6ae",
   "metadata": {},
   "outputs": [],
   "source": []
  }
 ],
 "metadata": {
  "kernelspec": {
   "display_name": "Python 3 (ipykernel)",
   "language": "python",
   "name": "python3"
  },
  "language_info": {
   "codemirror_mode": {
    "name": "ipython",
    "version": 3
   },
   "file_extension": ".py",
   "mimetype": "text/x-python",
   "name": "python",
   "nbconvert_exporter": "python",
   "pygments_lexer": "ipython3",
   "version": "3.9.7"
  },
  "toc": {
   "base_numbering": 1,
   "nav_menu": {},
   "number_sections": true,
   "sideBar": true,
   "skip_h1_title": false,
   "title_cell": "Table of Contents",
   "title_sidebar": "Contents",
   "toc_cell": false,
   "toc_position": {
    "height": "calc(100% - 180px)",
    "left": "10px",
    "top": "150px",
    "width": "245.825px"
   },
   "toc_section_display": true,
   "toc_window_display": false
  },
  "varInspector": {
   "cols": {
    "lenName": 16,
    "lenType": 16,
    "lenVar": 40
   },
   "kernels_config": {
    "python": {
     "delete_cmd_postfix": "",
     "delete_cmd_prefix": "del ",
     "library": "var_list.py",
     "varRefreshCmd": "print(var_dic_list())"
    },
    "r": {
     "delete_cmd_postfix": ") ",
     "delete_cmd_prefix": "rm(",
     "library": "var_list.r",
     "varRefreshCmd": "cat(var_dic_list()) "
    }
   },
   "position": {
    "height": "144.844px",
    "left": "1070px",
    "right": "20px",
    "top": "124px",
    "width": "350px"
   },
   "types_to_exclude": [
    "module",
    "function",
    "builtin_function_or_method",
    "instance",
    "_Feature"
   ],
   "window_display": false
  }
 },
 "nbformat": 4,
 "nbformat_minor": 5
}
